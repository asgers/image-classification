{
 "cells": [
  {
   "cell_type": "code",
   "execution_count": 58,
   "metadata": {},
   "outputs": [
    {
     "name": "stdout",
     "output_type": "stream",
     "text": [
      "Initialised with 3 image(s) found.\n",
      "Output directory set to C:/Users/Asger/OneDrive - Aarhus universitet/BDE 2016/bde 7 semester/image classification/classified pictures/u-shape\\output."
     ]
    }
   ],
   "source": [
    "import Augmentor\n",
    "p = Augmentor.Pipeline(\"C:/Users/Asger/OneDrive - Aarhus universitet/BDE 2016/bde 7 semester/image classification/classified pictures/u-shape\")\n"
   ]
  },
  {
   "cell_type": "code",
   "execution_count": 59,
   "metadata": {},
   "outputs": [],
   "source": [
    "p.rotate90(probability=0.5)\n",
    "p.rotate270(probability=0.5)\n",
    "p.flip_left_right(probability=0.8)\n",
    "p.flip_top_bottom(probability=0.3)\n",
    "p.crop_random(probability=1, percentage_area=0.5)\n",
    "p.resize(probability=1.0, width=120, height=120)"
   ]
  },
  {
   "cell_type": "code",
   "execution_count": 60,
   "metadata": {},
   "outputs": [
    {
     "name": "stderr",
     "output_type": "stream",
     "text": [
      "Processing <PIL.Image.Image image mode=RGB size=120x120 at 0x1FFB3690748>: 100%|█| 20/20 [00:04<00:00,  4.68 Samples/s]\n"
     ]
    }
   ],
   "source": [
    "p.sample(20)"
   ]
  },
  {
   "cell_type": "code",
   "execution_count": null,
   "metadata": {},
   "outputs": [],
   "source": []
  }
 ],
 "metadata": {
  "kernelspec": {
   "display_name": "Python 3",
   "language": "python",
   "name": "python3"
  },
  "language_info": {
   "codemirror_mode": {
    "name": "ipython",
    "version": 3
   },
   "file_extension": ".py",
   "mimetype": "text/x-python",
   "name": "python",
   "nbconvert_exporter": "python",
   "pygments_lexer": "ipython3",
   "version": "3.6.5"
  }
 },
 "nbformat": 4,
 "nbformat_minor": 2
}
